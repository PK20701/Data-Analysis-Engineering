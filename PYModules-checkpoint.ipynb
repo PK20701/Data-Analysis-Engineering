{
 "cells": [
  {
   "cell_type": "code",
   "execution_count": 3,
   "id": "015cbb54",
   "metadata": {},
   "outputs": [
    {
     "name": "stdout",
     "output_type": "stream",
     "text": [
      "Note: you may need to restart the kernel to use updated packages.\n"
     ]
    }
   ],
   "source": [
    "%pip install pdfplumber -q"
   ]
  },
  {
   "cell_type": "code",
   "execution_count": 4,
   "id": "c15bb2cd",
   "metadata": {},
   "outputs": [
    {
     "name": "stdout",
     "output_type": "stream",
     "text": [
      "page_no = 1\n",
      "Build Your Book from Jupyter\n",
      "Notebook\n",
      "1. create virtual env\n",
      "conda create -n pybook python=3.10\n",
      "conda activate pybook\n",
      "2. Install Jupyter Book\n",
      "pip install -U jupyter-book\n",
      "3. Generate Sample Book\n",
      "jupyter-book create pyspace\n",
      "4. Book structure\n",
      "Build Your Book from Jupyter Notebook 1\n",
      "---------------------------------------------\n",
      "page_no = 2\n",
      "tree pyspace/\n",
      "pyspace/\n",
      "├── _config.yml\n",
      "├── _toc.yml\n",
      "├── intro.md\n",
      "├── logo.png\n",
      "├── markdown-notebooks.md\n",
      "├── markdown.md\n",
      "├── notebooks.ipynb\n",
      "├── references.bib\n",
      "└── requirements.txt\n",
      "0 directories, 9 files\n",
      "5. Build your book\n",
      "jupyter-book build pyspace/\n",
      "_build/html\n",
      "├── _sources\n",
      "│ ├── intro.md\n",
      "│ ├── markdown-notebooks.ipynb\n",
      "│ ├── markdown-notebooks.md\n",
      "│ ├── markdown.md\n",
      "│ └── notebooks.ipynb\n",
      "├── _sphinx_design_static\n",
      "│ ├── design-style.b7bb847fb20b106c3d81b95245e65545.min.css\n",
      "│ └── design-tabs.js\n",
      "├── _static\n",
      "│ ├── basic.css\n",
      "│ ├── check-solid.svg\n",
      "│ ├── clipboard.min.js\n",
      "│ ├── copy-button.svg\n",
      "│ ├── copybutton.css\n",
      "│ ├── copybutton.js\n",
      "6. Add your own content\n",
      "a. Create a new markdown or jupyter notebook.\n",
      "b. Add the new file to\n",
      "_toc.yml\n",
      "format: jb-book\n",
      "root: intro\n",
      "chapters:\n",
      "- file: markdown\n",
      "Build Your Book from Jupyter Notebook 2\n",
      "---------------------------------------------\n",
      "page_no = 3\n",
      "- file: notebooks\n",
      "- file: markdown-notebooks\n",
      "- file: mymarkdownfile\n",
      "^^\n",
      "- file: mymarkdownfile\n",
      "c. Build the book again to pick up the changes.\n",
      "7. Publish your book online\n",
      "We will publish our book on Github Pages. Let’s start with creating Github repo\n",
      "1. initialize your local book folder with git >\n",
      "git commit\n",
      "2. Commit all the changes\n",
      "a.\n",
      "git add *\n",
      "b. commit the changes\n",
      "git commit -m 'all the files added'\n",
      "3. Link your Github repo with local book repo\n",
      "a.\n",
      "git remote add origin https://github.com/ <your_repo>\n",
      "4. Push the changes to Github\n",
      "a.\n",
      "git push -u origin main\n",
      "5. Install > python module makes it easy to publish on\n",
      "ghp-import ghp-import\n",
      "Github Pages.\n",
      "6. Run\n",
      "ghp-import -n -p -f _build/html\n",
      "7. After a couple of minutes, your book will be online. Here is mine >\n",
      "https://afizs.github.io/pyspace/intro.html\n",
      "Build Your Book from Jupyter Notebook 3\n",
      "---------------------------------------------\n"
     ]
    }
   ],
   "source": [
    "import pdfplumber as pp\n",
    "\n",
    "with pp.open(r'C:\\Users\\ADMIN\\Desktop\\Prasanna\\Learning\\Data Analyst\\DataAnalysis-\\PYModules\\book.pdf') as book:\n",
    "    for page_no, page in enumerate(book.pages, start=1):\n",
    "        print(f'{page_no = }')\n",
    "        data = page.extract_text()\n",
    "        print(data.strip())\n",
    "        print('-'*45)"
   ]
  },
  {
   "cell_type": "code",
   "execution_count": null,
   "id": "61b67f62",
   "metadata": {},
   "outputs": [],
   "source": []
  }
 ],
 "metadata": {
  "kernelspec": {
   "display_name": "Python 3 (ipykernel)",
   "language": "python",
   "name": "python3"
  },
  "language_info": {
   "codemirror_mode": {
    "name": "ipython",
    "version": 3
   },
   "file_extension": ".py",
   "mimetype": "text/x-python",
   "name": "python",
   "nbconvert_exporter": "python",
   "pygments_lexer": "ipython3",
   "version": "3.9.7"
  }
 },
 "nbformat": 4,
 "nbformat_minor": 5
}
